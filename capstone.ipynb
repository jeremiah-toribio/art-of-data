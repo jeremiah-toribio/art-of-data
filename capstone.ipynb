{
 "cells": [
  {
   "cell_type": "code",
   "execution_count": 1,
   "metadata": {},
   "outputs": [],
   "source": [
    "import numpy as np\n",
    "import pandas as pd"
   ]
  },
  {
   "cell_type": "code",
   "execution_count": 2,
   "metadata": {},
   "outputs": [],
   "source": [
    "#df['hammer_price'] = None\n",
    "#split_values = df['estimated_price'].str.split('USD', n=1, expand=True)\n",
    "#df['estimated_price'] = split_values[0].str.strip()\n",
    "#df['hammer_price'] = split_values[1].str.strip()\n",
    "#df"
   ]
  },
  {
   "cell_type": "code",
   "execution_count": 3,
   "metadata": {},
   "outputs": [],
   "source": [
    "import unidecode"
   ]
  },
  {
   "cell_type": "code",
   "execution_count": 4,
   "metadata": {},
   "outputs": [],
   "source": [
    "# pdf scanner\n",
    "import PyPDF2\n",
    "import pdfminer\n",
    "# arrays\n",
    "import pandas as pd\n",
    "import numpy as np\n",
    "# os\n",
    "import os\n",
    "# NLP\n",
    "    # regex\n",
    "import re\n",
    "    # unicode\n",
    "import unidecode"
   ]
  },
  {
   "cell_type": "code",
   "execution_count": 5,
   "metadata": {},
   "outputs": [],
   "source": [
    "# using as a whole pdf because it removes the line breaks \\n\n",
    "\n",
    "# importing required modules\n",
    "bodies = []\n",
    "\n",
    "# creating a pdf file object\n",
    "pdfFileObj = open('./data-2.pdf', 'rb')\n",
    "\n",
    "# creating a pdf reader object\n",
    "pdfReader = PyPDF2.PdfReader(pdfFileObj)\n",
    "\n",
    "# printing number of pages in pdf file\n",
    "num_pages = len(pdfReader.pages)\n",
    "#print(f\"Number of pages: {num_pages}\")\n",
    "\n",
    "    # loop through all pages and extract text\n",
    "for page_num in range(num_pages):\n",
    "    pageObj = pdfReader.pages[page_num]\n",
    "    text = pageObj.extract_text()\n",
    "    bodies.append(text)\n",
    "    #print(f\"Page {page_num+1}:\\ndata.pdf\")\n",
    "    # validate the process body of text is correct format\n",
    "    #if type(text) is str:\n",
    "        #print('Successfully pulled text from page.\\n')\n",
    "    #else:\n",
    "        #print('Failed to pull text.')\n",
    "# closing the pdf file object\n",
    "pdfFileObj.close()"
   ]
  },
  {
   "cell_type": "code",
   "execution_count": 6,
   "metadata": {},
   "outputs": [],
   "source": [
    "# decoding letters with accents into regular letters & removing character symbols\n",
    "body_clean = []\n",
    "for body in bodies:\n",
    "    body = unidecode.unidecode(body)\n",
    "    # removing the title of pdf from the body of text\n",
    "    body = body.replace('Price Database31 October 2023','')\n",
    "    body_clean.append(body)"
   ]
  },
  {
   "cell_type": "code",
   "execution_count": 7,
   "metadata": {},
   "outputs": [],
   "source": [
    "# separating each entry by artist name\n",
    "names = ['Zhang Daqian', 'Andy Warhol', 'Banksy', 'Salvador Dali','Marc Chagell','Pablo Picasso',\n",
    "         'Rembrandt van Rijn','KAWS','Leonard Tsuguharu Foujita','Yayoi Kusama']\n",
    "# container for all entries\n",
    "new_body = []\n",
    "# container for each artist that has multiple names in the entry\n",
    "banksy_clean = []\n",
    "marc_clean = []\n",
    "pablo_clean = []\n",
    "rembrandt_clean = []\n",
    "dali_clean = []\n",
    "for body in body_clean:\n",
    "    for name in names:\n",
    "\n",
    "        # isolating the entries that contain multiple counts of name in entry\n",
    "            # the text in the if statement is the combined text where the name is repeated\n",
    "            # these varie between title of piece or within the lot description\n",
    "\n",
    "        # Banksy / KAWS\n",
    "        if name == 'Banksy' or 'KAWS':\n",
    "            if 'Only Banksy' in body:\n",
    "                banksy_clean.append(body)\n",
    "            elif 'Banksy and 21st Century Editions' in body:\n",
    "                banksy_clean.append(body)\n",
    "\n",
    "        # Marc Chagell\n",
    "        if name == 'Marc Chagell':\n",
    "            if 'Marc Chagall, Colour of Life' in body:\n",
    "                marc_clean.append(body)\n",
    "        # Dali\n",
    "        if name == 'Salvador Dali':\n",
    "            if 'After Salvador Dali' in body:\n",
    "                dali_clean.append(body)\n",
    "            elif 'SALVADOR DALI\\' \"Genesis\"' in body:\n",
    "                dali_clean.append(body)\n",
    "            elif 'Currier & Ives as Interpreted by Salvador Dali' in body:\n",
    "                dali_clean.append(body)\n",
    "        # Picasso\n",
    "        if name == 'Pablo Picasso':\n",
    "            if 'After Pablo Picasso' in body:\n",
    "                pablo_clean.append(body)\n",
    "        # Rembrandt\n",
    "        if name == 'Rembrandt van Rijn':\n",
    "            if 'School of Rembrandt van Rijn' in body:\n",
    "                rembrandt_clean.append(body)\n",
    "            elif 'Circle of Rembrandt van Rijn' in body:\n",
    "                rembrandt_clean.append(body)\n",
    "            elif 'Studio of Rembrandt van Rijn' in body:\n",
    "                rembrandt_clean.append(body)\n",
    "            elif 'Follower of Rembrandt van Rijn' in body:\n",
    "                rembrandt_clean.append(body)\n",
    "\n",
    "        # All other values that do not have repeated names\n",
    "        else:\n",
    "            entries = body.split(f\"{name}\")[1:]\n",
    "        for entry in entries:\n",
    "            entry = entry.strip()\n",
    "            # adding an additional space back in between the name and piece_name\n",
    "            a = ''.join([name+' ',entry])\n",
    "            a = a.replace('\\x00','-')\n",
    "            new_body.append(a)\n",
    "            #print(f\"{name}\")\n",
    "            #print(a)\n",
    "            #print(\"=\"*30)"
   ]
  },
  {
   "cell_type": "code",
   "execution_count": 8,
   "metadata": {},
   "outputs": [],
   "source": [
    "# Removing entries from new_body that do not have complete data\n",
    "new_body = [body for body in new_body if len(body) >= 130]"
   ]
  },
  {
   "cell_type": "code",
   "execution_count": 9,
   "metadata": {},
   "outputs": [
    {
     "name": "stdout",
     "output_type": "stream",
     "text": [
      "909\n",
      "909\n"
     ]
    }
   ],
   "source": [
    "# cleaning duplicates within new_body\n",
    "print(len(new_body))\n",
    "new_body = list(set(new_body))\n",
    "print(len(new_body))"
   ]
  },
  {
   "cell_type": "code",
   "execution_count": 10,
   "metadata": {},
   "outputs": [],
   "source": [
    "# removing duplicates\n",
    "banksy_clean = list(set(banksy_clean))"
   ]
  },
  {
   "cell_type": "code",
   "execution_count": 11,
   "metadata": {},
   "outputs": [],
   "source": [
    "banksy_ = []\n",
    "for i in banksy_clean:\n",
    "    # splitting by new line\n",
    "    i.split('\\n')\n",
    "    # adding space after artist name for ease of regex\n",
    "    i = i.replace('Banksy','Banksy ')\n",
    "    # removing double spaces\n",
    "    i = i.replace('  ', ' ')\n",
    "    banksy_.append(i)"
   ]
  },
  {
   "cell_type": "code",
   "execution_count": 12,
   "metadata": {},
   "outputs": [],
   "source": [
    "# cleaned banksy entries with multiple appearances of names\n",
    "#banksy_"
   ]
  },
  {
   "cell_type": "code",
   "execution_count": 13,
   "metadata": {},
   "outputs": [],
   "source": [
    "# removing duplicates\n",
    "rembrandt_clean = list(set(rembrandt_clean))"
   ]
  },
  {
   "cell_type": "code",
   "execution_count": 14,
   "metadata": {},
   "outputs": [],
   "source": [
    "rembrandt_ = []\n",
    "for i in rembrandt_clean:\n",
    "    # splitting by new line\n",
    "    i.split('\\n')\n",
    "    # adding space after artist name for ease of regex\n",
    "    i = i.replace('Rembrandt','Rembrandt ')\n",
    "    # removing double spaces\n",
    "    i = i.replace('  ', ' ')\n",
    "    rembrandt_.append(i)"
   ]
  },
  {
   "cell_type": "code",
   "execution_count": 15,
   "metadata": {},
   "outputs": [],
   "source": [
    "# cleaned rembrandt entries with multiple appearances of names\n",
    "#rembrandt_"
   ]
  },
  {
   "cell_type": "code",
   "execution_count": 16,
   "metadata": {},
   "outputs": [],
   "source": [
    "marc_ = []\n",
    "for i in marc_clean:\n",
    "    # splitting by new line\n",
    "    i.split('\\n')\n",
    "    # adding space after artist name for ease of regex\n",
    "    i = i.replace('Marc Chagall','Marc Chagall ')\n",
    "    # removing double spaces\n",
    "    i = i.replace('  ', ' ')\n",
    "    marc_.append(i)"
   ]
  },
  {
   "cell_type": "code",
   "execution_count": 17,
   "metadata": {},
   "outputs": [],
   "source": [
    "# cleaned marc chagall entries with multiple appearances of names\n",
    "#marc_"
   ]
  },
  {
   "cell_type": "code",
   "execution_count": 18,
   "metadata": {},
   "outputs": [],
   "source": [
    "pablo_ = []\n",
    "for i in pablo_clean:\n",
    "    # splitting by new line\n",
    "    i.split('\\n')\n",
    "    # adding space after artist name for ease of regex\n",
    "    i = i.replace('Pablo Picasso','Pablo Picasso ')\n",
    "    # removing double spaces\n",
    "    i = i.replace('  ', ' ')\n",
    "    pablo_.append(i)"
   ]
  },
  {
   "cell_type": "code",
   "execution_count": 19,
   "metadata": {},
   "outputs": [],
   "source": [
    "# cleaned pablo picasso entries with multiple appearances of names\n",
    "#pablo_"
   ]
  },
  {
   "cell_type": "code",
   "execution_count": 20,
   "metadata": {},
   "outputs": [],
   "source": [
    "dali_ = []\n",
    "for i in dali_clean:\n",
    "    # splitting by new line\n",
    "    i.split('\\n')\n",
    "    # adding space after artist name for ease of regex\n",
    "    i = i.replace('Salvador Dali','Salvador Dali ')\n",
    "    # removing double spaces\n",
    "    i = i.replace('  ', ' ')\n",
    "    dali_.append(i)"
   ]
  },
  {
   "cell_type": "code",
   "execution_count": 21,
   "metadata": {},
   "outputs": [],
   "source": [
    "#dali_"
   ]
  },
  {
   "cell_type": "code",
   "execution_count": 22,
   "metadata": {},
   "outputs": [
    {
     "data": {
      "text/plain": [
       "909"
      ]
     },
     "execution_count": 22,
     "metadata": {},
     "output_type": "execute_result"
    }
   ],
   "source": [
    "len(new_body)"
   ]
  },
  {
   "cell_type": "code",
   "execution_count": 23,
   "metadata": {},
   "outputs": [],
   "source": [
    "add_ins = dali_ + rembrandt_ + marc_ + pablo_ + banksy_"
   ]
  },
  {
   "cell_type": "code",
   "execution_count": 24,
   "metadata": {},
   "outputs": [],
   "source": [
    "new_body.extend(add_ins)\n"
   ]
  },
  {
   "cell_type": "code",
   "execution_count": 25,
   "metadata": {},
   "outputs": [
    {
     "data": {
      "text/plain": [
       "937"
      ]
     },
     "execution_count": 25,
     "metadata": {},
     "output_type": "execute_result"
    }
   ],
   "source": [
    "len(new_body)\n"
   ]
  },
  {
   "cell_type": "code",
   "execution_count": 26,
   "metadata": {},
   "outputs": [
    {
     "data": {
      "text/plain": [
       "'After Pablo Picasso La Corridacolored aquatintHeight 48 x Width 65 cm.Height 18.898 x Width 25.591 in.1956Edition: 77/20029 November 202211 months agoDorotheumModern Art - [Lot 00151]est. 6,000 u 8,000 EUR15,360EURest. 6,213 u 8,284 USD15,905USD| 92% est\\nPablo Picasso Le barbufaienceHeight 31 cm.Height 12.205 in.195329 November 202211 months agoArtcurialLimited Edition - [Lot 00018]est. 8,000 u 12,000 EUR10,496EURest. 8,284 u 12,426 USD10,868USD\\nPablo Picasso Carmen.burin print1949Edition: 32029 November 202211 months agoAldeReliures originales & Livres illustresmodernes - [Lot 00113]est. 6,000 u 8,000 EUR10,000EURest. 6,213 u 8,284 USD10,355USD| 25% est\\nPablo Picasso HeadearthenwareHeight 32.5 cm.Height 12.795 in.1956Edition: 113/20029 November 202211 months agoDorotheumModern Art - [Lot 00146]est. 6,000 u 8,000 EUR14,080EURest. 6,213 u 8,284 USD14,580USD| 76% est\\nPablo Picasso CHOUETTEglazed earthenwareHeight 29.21 x Width 22.86 x Depth 13.97 cm.Height 11.5 x Width 9 x Depth 5.5 in.Edition: 18/35029 November 202211 months agoAbell20th Century Design, November 29th - [Lot00101]est. 12,000 u 18,000 USD17,000USD'"
      ]
     },
     "execution_count": 26,
     "metadata": {},
     "output_type": "execute_result"
    }
   ],
   "source": [
    "new_body[-10]\n"
   ]
  },
  {
   "cell_type": "code",
   "execution_count": 27,
   "metadata": {},
   "outputs": [],
   "source": [
    "# pre regex\n",
    "# 1. if name count < 1, drop value\n",
    "# regex\n",
    "# 2. Make depth optional\n",
    "# 3. make foreign currency (estimate & hammer price) optional\n",
    "# 4."
   ]
  },
  {
   "cell_type": "code",
   "execution_count": 28,
   "metadata": {},
   "outputs": [],
   "source": [
    "# seperating by IF has foreign currency\n",
    "foreign_currency = ['HKD','EUR','NZD','AUD','GBP','KRW','CNY','JPY','CHF','SGD','CAD','TWD','INR','THB','RUB','SEK','DKK','NOK',\n",
    "                    'PLN','ZAR','MXN','BRL','TRY','AED','SAR','QAR','KWD','OMR','BHD','JOD','ILS','EGP','IDR','MYR','PHP','CZK',\n",
    "                    'HUF','CLP','ARS','COP','PEN']\n",
    "# seperating by IF has depth\n",
    "# Depth as a keyword"
   ]
  },
  {
   "cell_type": "code",
   "execution_count": 29,
   "metadata": {},
   "outputs": [],
   "source": [
    "#new_body"
   ]
  },
  {
   "cell_type": "code",
   "execution_count": 30,
   "metadata": {},
   "outputs": [],
   "source": [
    "# new_body with foreign currency\n",
    "has_foreign_currency = [body for body in new_body if any(currency in body for currency in foreign_currency)]\n",
    "\n",
    "# new_body without foreign currency\n",
    "no_foreign_currency = []\n",
    "for body in new_body:\n",
    "    if body not in has_foreign_currency:\n",
    "        no_foreign_currency.append(body)"
   ]
  },
  {
   "cell_type": "code",
   "execution_count": 31,
   "metadata": {},
   "outputs": [
    {
     "name": "stdout",
     "output_type": "stream",
     "text": [
      "Length of FC: 707, Length of No FC: 230, Combined = 937\n"
     ]
    }
   ],
   "source": [
    "print(f'Length of FC: {len(has_foreign_currency)},\\\n",
    " Length of No FC: {len(no_foreign_currency)},\\\n",
    " Combined = {len(has_foreign_currency) + len(no_foreign_currency)}')"
   ]
  },
  {
   "cell_type": "code",
   "execution_count": 32,
   "metadata": {},
   "outputs": [],
   "source": [
    "depth_fc = [body for body in has_foreign_currency if 'Depth' in body]\n"
   ]
  },
  {
   "cell_type": "code",
   "execution_count": 33,
   "metadata": {},
   "outputs": [
    {
     "data": {
      "text/plain": [
       "54"
      ]
     },
     "execution_count": 33,
     "metadata": {},
     "output_type": "execute_result"
    }
   ],
   "source": [
    "len(depth_fc)\n"
   ]
  },
  {
   "cell_type": "code",
   "execution_count": 34,
   "metadata": {},
   "outputs": [],
   "source": [
    "depth_fc = depth_fc[1:]\n",
    "#depth_fc"
   ]
  },
  {
   "cell_type": "code",
   "execution_count": 35,
   "metadata": {},
   "outputs": [],
   "source": [
    "depth_has_estimate_fc = []\n",
    "for string in depth_fc:\n",
    "    match = re.search(r'\\|', string)\n",
    "    if match:\n",
    "        depth_has_estimate_fc.append(string)\n",
    "    else:\n",
    "        pass"
   ]
  },
  {
   "cell_type": "code",
   "execution_count": 36,
   "metadata": {},
   "outputs": [
    {
     "name": "stdout",
     "output_type": "stream",
     "text": [
      "36\n"
     ]
    }
   ],
   "source": [
    "print(len(depth_has_estimate_fc))\n",
    "#depth_has_estimate_fc"
   ]
  },
  {
   "cell_type": "code",
   "execution_count": 37,
   "metadata": {},
   "outputs": [],
   "source": [
    "#for body in depth_has_estimate_fc:\n",
    "    #if '\\n' in body:\n",
    "        #print(f'has n, \\n{body}')"
   ]
  },
  {
   "cell_type": "code",
   "execution_count": 38,
   "metadata": {},
   "outputs": [],
   "source": [
    "#new_body"
   ]
  },
  {
   "cell_type": "code",
   "execution_count": 39,
   "metadata": {},
   "outputs": [],
   "source": [
    "import re\n",
    "\n",
    "def remove_special_characters(text):\n",
    "    # Define a regular expression pattern to match special characters\n",
    "    pattern = r'[^\\w\\s]'\n",
    "    \n",
    "    # Use re.sub to replace all occurrences of special characters with an empty string\n",
    "    cleaned_text = re.sub(pattern, '', text)\n",
    "    \n",
    "    return cleaned_text\n",
    "\n"
   ]
  },
  {
   "cell_type": "code",
   "execution_count": 40,
   "metadata": {},
   "outputs": [],
   "source": [
    "cleaned_body = [remove_special_characters(body) for body in new_body]\n",
    "#cleaned_body\n"
   ]
  },
  {
   "cell_type": "code",
   "execution_count": 41,
   "metadata": {},
   "outputs": [],
   "source": [
    "#for title in cleaned_titles:\n",
    "    #for i in range(len(cleaned_body)):\n",
    "        #cleaned_body[i] = cleaned_body[i].replace(title, title + ',')\n",
    "#cleaned_body"
   ]
  },
  {
   "cell_type": "code",
   "execution_count": 42,
   "metadata": {},
   "outputs": [],
   "source": [
    "import re\n",
    "\n",
    "def add_comma_before_capital_h(text):\n",
    "    # Define a regular expression pattern to find capital H\n",
    "    pattern = r'Height'\n",
    "    \n",
    "    # Use re.sub to add a comma before capital H\n",
    "    modified_text = re.sub(pattern, ',Height', text)\n",
    "    \n",
    "    return modified_text\n",
    "\n",
    "modified_body = [add_comma_before_capital_h(string) for string in cleaned_body]\n",
    "#modified_body"
   ]
  },
  {
   "cell_type": "code",
   "execution_count": 43,
   "metadata": {},
   "outputs": [],
   "source": [
    "#modified_body"
   ]
  },
  {
   "cell_type": "code",
   "execution_count": 44,
   "metadata": {},
   "outputs": [],
   "source": [
    "data = []\n",
    "pattern = r\"(Zhang Daqian|Andy Warhol|Banksy|Salvador Dali|Marc Chagell|Pablo Picasso|Rembrandt van Rijn|KAWS|Leonard Tsuguharu Foujita|Yayoi Kusama)\\s*(.+?)\\,?(Height\\s*.*\\s*in)?(\\d{4})[\\s\\w\\dEdition[\\s\\w]+\\s*(January\\s*\\d{4}|February\\s*\\d{4}|March\\s*\\d{4}|April\\s*\\d{4}|May\\s*\\d{4}|June\\s*\\d{4}|July\\s*\\d{4}|August\\s*\\d{4}|September\\s*\\d{4}|October\\s*\\d{4}|November\\s*\\d{4}|December\\s*\\d{4})[\\s\\w\\d]+\\s*ago([\\s\\w,]+)\\s*Lot\\s*(\\d+)[\\s\\w,]*est\\s*(\\d+)\\s*u\\s*(\\d+)\\s*USD\\s*(\\d+)USD\"\n",
    "for string in modified_body:\n",
    "    matches = re.finditer(pattern, string, re.MULTILINE)\n",
    "    for match in matches:\n",
    "        artist, title, dimensions, year, time_sold, auction, lot, \\\n",
    "        est_price_low, est_price_high, final_price_usd = match.groups()\n",
    "        groupdict = {'artist': artist, 'title': title, 'dimensions': dimensions, 'year': year, 'time_sold': time_sold, 'auction': auction, 'lot': lot, 'est_price_low': est_price_low, 'est_price_high': est_price_high, 'final_price_usd': final_price_usd}\n",
    "        data.append(groupdict)\n",
    "        #print(data)\n",
    "\n",
    "        #print(f\"Artist: {artist}\")\n",
    "        #print(f\"Title: {title}\")\n",
    "        #print(f\"Dimensions: {dimensions}\")\n",
    "        #print(f\"Year: {year}\")\n",
    "        #print(f\"Time Sold: {time_sold}\")\n",
    "        #print(f\"Auction: {auction}\")\n",
    "        #print(f\"Lot: {lot}\")\n",
    "        #print(f\"Estimated Price Low: {est_price_low}\")\n",
    "        #print(f\"Estimated Price High: {est_price_high}\")\n",
    "        #print(f\"Final Price USD: {final_price_usd}\")\n",
    "        #print(\"=\"*30)"
   ]
  },
  {
   "cell_type": "code",
   "execution_count": 45,
   "metadata": {},
   "outputs": [
    {
     "data": {
      "text/html": [
       "<div>\n",
       "<style scoped>\n",
       "    .dataframe tbody tr th:only-of-type {\n",
       "        vertical-align: middle;\n",
       "    }\n",
       "\n",
       "    .dataframe tbody tr th {\n",
       "        vertical-align: top;\n",
       "    }\n",
       "\n",
       "    .dataframe thead th {\n",
       "        text-align: right;\n",
       "    }\n",
       "</style>\n",
       "<table border=\"1\" class=\"dataframe\">\n",
       "  <thead>\n",
       "    <tr style=\"text-align: right;\">\n",
       "      <th></th>\n",
       "      <th>artist</th>\n",
       "      <th>title</th>\n",
       "      <th>dimensions</th>\n",
       "      <th>year</th>\n",
       "      <th>time_sold</th>\n",
       "      <th>auction</th>\n",
       "      <th>lot</th>\n",
       "      <th>est_price_low</th>\n",
       "      <th>est_price_high</th>\n",
       "      <th>final_price_usd</th>\n",
       "    </tr>\n",
       "  </thead>\n",
       "  <tbody>\n",
       "    <tr>\n",
       "      <th>0</th>\n",
       "      <td>Pablo Picasso</td>\n",
       "      <td>Headearthenware</td>\n",
       "      <td>Height 325 cm,Height 12795 in</td>\n",
       "      <td>1956</td>\n",
       "      <td>November 2022</td>\n",
       "      <td>DorotheumModern Art</td>\n",
       "      <td>00146</td>\n",
       "      <td>6213</td>\n",
       "      <td>8284</td>\n",
       "      <td>14580</td>\n",
       "    </tr>\n",
       "    <tr>\n",
       "      <th>1</th>\n",
       "      <td>Banksy</td>\n",
       "      <td>Banksquiat Blackscreenprint in colours on blac...</td>\n",
       "      <td>Height 70 x Width 70 cm,Height 27559 x Width 2...</td>\n",
       "      <td>2019</td>\n",
       "      <td>September 2022</td>\n",
       "      <td>Tate Ward AuctionsTate Ward  Artsy  By Collect...</td>\n",
       "      <td>00274</td>\n",
       "      <td>69204</td>\n",
       "      <td>92272</td>\n",
       "      <td>86505</td>\n",
       "    </tr>\n",
       "    <tr>\n",
       "      <th>2</th>\n",
       "      <td>Yayoi Kusama</td>\n",
       "      <td>Lemon Squashscreenprint in colours</td>\n",
       "      <td>Height 53 x Width 455 cm,Height 20866 x Width ...</td>\n",
       "      <td>1984</td>\n",
       "      <td>December 2022</td>\n",
       "      <td>Mallet JapanModern  Contemporary Art</td>\n",
       "      <td>00026</td>\n",
       "      <td>22134</td>\n",
       "      <td>29512</td>\n",
       "      <td>41318</td>\n",
       "    </tr>\n",
       "    <tr>\n",
       "      <th>3</th>\n",
       "      <td>Zhang Daqian</td>\n",
       "      <td>Yi Fan Feng Shun ink and color on silk</td>\n",
       "      <td>Height 1685 x Width 705 cm,Height 66339 x Widt...</td>\n",
       "      <td>1931</td>\n",
       "      <td>December 2022</td>\n",
       "      <td>China Guardian Auctions Co LtdModern Chinese P...</td>\n",
       "      <td>00525</td>\n",
       "      <td>115162</td>\n",
       "      <td>259115</td>\n",
       "      <td>529747</td>\n",
       "    </tr>\n",
       "    <tr>\n",
       "      <th>4</th>\n",
       "      <td>Andy Warhol</td>\n",
       "      <td>Vanishing Animals Okapisynthetic polymer paint...</td>\n",
       "      <td>Height 592 x Width 80 cm,Height 23307 x Width ...</td>\n",
       "      <td>1986</td>\n",
       "      <td>December 2022</td>\n",
       "      <td>Phillips LondonNew Now</td>\n",
       "      <td>00100</td>\n",
       "      <td>6117</td>\n",
       "      <td>8564</td>\n",
       "      <td>18499</td>\n",
       "    </tr>\n",
       "    <tr>\n",
       "      <th>...</th>\n",
       "      <td>...</td>\n",
       "      <td>...</td>\n",
       "      <td>...</td>\n",
       "      <td>...</td>\n",
       "      <td>...</td>\n",
       "      <td>...</td>\n",
       "      <td>...</td>\n",
       "      <td>...</td>\n",
       "      <td>...</td>\n",
       "      <td>...</td>\n",
       "    </tr>\n",
       "    <tr>\n",
       "      <th>885</th>\n",
       "      <td>Banksy</td>\n",
       "      <td>Love Is In The Aircolor screenprint</td>\n",
       "      <td>Height 468 x Width 671 cm,Height 18425 x Width...</td>\n",
       "      <td>2003</td>\n",
       "      <td>November 2022</td>\n",
       "      <td>Stockholms AuktionsverkModern and Contemporary...</td>\n",
       "      <td>00010</td>\n",
       "      <td>44047</td>\n",
       "      <td>55639</td>\n",
       "      <td>47525</td>\n",
       "    </tr>\n",
       "    <tr>\n",
       "      <th>886</th>\n",
       "      <td>Banksy</td>\n",
       "      <td>Choose Your Weapon Slatescreenprint on paper</td>\n",
       "      <td>Height 70 x Width 70 cm,Height 27559 x Width 2...</td>\n",
       "      <td>2010</td>\n",
       "      <td>September 2022</td>\n",
       "      <td>Sothebys LondonContemporary Curated  Lot 00023...</td>\n",
       "      <td>00003</td>\n",
       "      <td>23068</td>\n",
       "      <td>34602</td>\n",
       "      <td>23068</td>\n",
       "    </tr>\n",
       "    <tr>\n",
       "      <th>887</th>\n",
       "      <td>Banksy</td>\n",
       "      <td>Monkey Queenscreenprint in colours</td>\n",
       "      <td>Height 493 x Width 342 cm,Height 19409 x Width...</td>\n",
       "      <td>2003</td>\n",
       "      <td>September 2022</td>\n",
       "      <td>Bonhams KnightsbridgePrints and Multiples  Lot...</td>\n",
       "      <td>00052</td>\n",
       "      <td>90641</td>\n",
       "      <td>135961</td>\n",
       "      <td>114208</td>\n",
       "    </tr>\n",
       "    <tr>\n",
       "      <th>888</th>\n",
       "      <td>KAWS</td>\n",
       "      <td>STUCKacrylic pastel charcoal and graphite on p...</td>\n",
       "      <td>Height 756 x Width 559 cm,Height 29764 x Width...</td>\n",
       "      <td>2022</td>\n",
       "      <td>September 2022</td>\n",
       "      <td>Christies New YorkPostWar to Present  Lot 0030...</td>\n",
       "      <td>00149</td>\n",
       "      <td>57816</td>\n",
       "      <td>80943</td>\n",
       "      <td>94703</td>\n",
       "    </tr>\n",
       "    <tr>\n",
       "      <th>889</th>\n",
       "      <td>Banksy</td>\n",
       "      <td>Bomb Middle Englandscreenprint in colours</td>\n",
       "      <td>Height 345 x Width 985 cm,Height 13583 x Width...</td>\n",
       "      <td>2003</td>\n",
       "      <td>November 2022</td>\n",
       "      <td>Forum AuctionsOnly Banksy  Lot 00013est 14000 ...</td>\n",
       "      <td>00297</td>\n",
       "      <td>27123</td>\n",
       "      <td>47465</td>\n",
       "      <td>24953</td>\n",
       "    </tr>\n",
       "  </tbody>\n",
       "</table>\n",
       "<p>890 rows × 10 columns</p>\n",
       "</div>"
      ],
      "text/plain": [
       "            artist                                              title  \\\n",
       "0    Pablo Picasso                                    Headearthenware   \n",
       "1           Banksy  Banksquiat Blackscreenprint in colours on blac...   \n",
       "2     Yayoi Kusama                 Lemon Squashscreenprint in colours   \n",
       "3     Zhang Daqian             Yi Fan Feng Shun ink and color on silk   \n",
       "4      Andy Warhol  Vanishing Animals Okapisynthetic polymer paint...   \n",
       "..             ...                                                ...   \n",
       "885         Banksy                Love Is In The Aircolor screenprint   \n",
       "886         Banksy       Choose Your Weapon Slatescreenprint on paper   \n",
       "887         Banksy                 Monkey Queenscreenprint in colours   \n",
       "888           KAWS  STUCKacrylic pastel charcoal and graphite on p...   \n",
       "889         Banksy          Bomb Middle Englandscreenprint in colours   \n",
       "\n",
       "                                            dimensions  year       time_sold  \\\n",
       "0                        Height 325 cm,Height 12795 in  1956   November 2022   \n",
       "1    Height 70 x Width 70 cm,Height 27559 x Width 2...  2019  September 2022   \n",
       "2    Height 53 x Width 455 cm,Height 20866 x Width ...  1984   December 2022   \n",
       "3    Height 1685 x Width 705 cm,Height 66339 x Widt...  1931   December 2022   \n",
       "4    Height 592 x Width 80 cm,Height 23307 x Width ...  1986   December 2022   \n",
       "..                                                 ...   ...             ...   \n",
       "885  Height 468 x Width 671 cm,Height 18425 x Width...  2003   November 2022   \n",
       "886  Height 70 x Width 70 cm,Height 27559 x Width 2...  2010  September 2022   \n",
       "887  Height 493 x Width 342 cm,Height 19409 x Width...  2003  September 2022   \n",
       "888  Height 756 x Width 559 cm,Height 29764 x Width...  2022  September 2022   \n",
       "889  Height 345 x Width 985 cm,Height 13583 x Width...  2003   November 2022   \n",
       "\n",
       "                                               auction    lot est_price_low  \\\n",
       "0                                DorotheumModern Art    00146          6213   \n",
       "1    Tate Ward AuctionsTate Ward  Artsy  By Collect...  00274         69204   \n",
       "2               Mallet JapanModern  Contemporary Art    00026         22134   \n",
       "3    China Guardian Auctions Co LtdModern Chinese P...  00525        115162   \n",
       "4                             Phillips LondonNew Now    00100          6117   \n",
       "..                                                 ...    ...           ...   \n",
       "885  Stockholms AuktionsverkModern and Contemporary...  00010         44047   \n",
       "886  Sothebys LondonContemporary Curated  Lot 00023...  00003         23068   \n",
       "887  Bonhams KnightsbridgePrints and Multiples  Lot...  00052         90641   \n",
       "888  Christies New YorkPostWar to Present  Lot 0030...  00149         57816   \n",
       "889  Forum AuctionsOnly Banksy  Lot 00013est 14000 ...  00297         27123   \n",
       "\n",
       "    est_price_high final_price_usd  \n",
       "0             8284           14580  \n",
       "1            92272           86505  \n",
       "2            29512           41318  \n",
       "3           259115          529747  \n",
       "4             8564           18499  \n",
       "..             ...             ...  \n",
       "885          55639           47525  \n",
       "886          34602           23068  \n",
       "887         135961          114208  \n",
       "888          80943           94703  \n",
       "889          47465           24953  \n",
       "\n",
       "[890 rows x 10 columns]"
      ]
     },
     "execution_count": 45,
     "metadata": {},
     "output_type": "execute_result"
    }
   ],
   "source": [
    "df = pd.DataFrame(data)\n",
    "df"
   ]
  },
  {
   "cell_type": "code",
   "execution_count": 46,
   "metadata": {},
   "outputs": [],
   "source": [
    "df.to_csv('art.csv')"
   ]
  },
  {
   "cell_type": "code",
   "execution_count": null,
   "metadata": {},
   "outputs": [],
   "source": []
  }
 ],
 "metadata": {
  "kernelspec": {
   "display_name": "base",
   "language": "python",
   "name": "python3"
  },
  "language_info": {
   "codemirror_mode": {
    "name": "ipython",
    "version": 3
   },
   "file_extension": ".py",
   "mimetype": "text/x-python",
   "name": "python",
   "nbconvert_exporter": "python",
   "pygments_lexer": "ipython3",
   "version": "3.11.3"
  },
  "orig_nbformat": 4
 },
 "nbformat": 4,
 "nbformat_minor": 2
}
