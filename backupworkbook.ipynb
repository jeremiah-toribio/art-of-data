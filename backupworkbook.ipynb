{
 "cells": [
  {
   "cell_type": "markdown",
   "metadata": {},
   "source": [
    "# Imports"
   ]
  },
  {
   "cell_type": "code",
   "execution_count": null,
   "metadata": {},
   "outputs": [],
   "source": [
    "# pdf scanner\n",
    "import PyPDF2\n",
    "from pypdf import PdfReader\n",
    "import pdfminer\n",
    "# arrays\n",
    "import pandas as pd\n",
    "import numpy as np\n",
    "# os\n",
    "import os\n",
    "# NLP\n",
    "    # regex\n",
    "import re\n",
    "    # unicode\n",
    "import unidecode"
   ]
  },
  {
   "cell_type": "markdown",
   "metadata": {},
   "source": [
    "## ✅ Pulling Images (only required once)"
   ]
  },
  {
   "cell_type": "code",
   "execution_count": null,
   "metadata": {},
   "outputs": [],
   "source": [
    "# reader object\n",
    "# reader = PdfReader('data.pdf')"
   ]
  },
  {
   "cell_type": "code",
   "execution_count": null,
   "metadata": {},
   "outputs": [],
   "source": [
    "# number of pages within data pdf\n",
    "# num_pages = len(reader.pages)"
   ]
  },
  {
   "cell_type": "code",
   "execution_count": null,
   "metadata": {},
   "outputs": [],
   "source": [
    "# images pulled from pdf\n",
    "# reader = PdfReader(\"data.pdf\")\n",
    "# for page in reader.pages:\n",
    "#     for image in page.images:\n",
    "#         with open(image.name, \"wb\") as fp:\n",
    "#             fp.write(image.data)"
   ]
  },
  {
   "cell_type": "markdown",
   "metadata": {},
   "source": [
    "## Retrieving data from all pdfs"
   ]
  },
  {
   "cell_type": "code",
   "execution_count": null,
   "metadata": {},
   "outputs": [],
   "source": [
    "# using pdfs seperated for \\n inside the text\n",
    "\n",
    "# importing required modules\n",
    "bodies = []\n",
    "names = ['dali','warhol','banksy','marcchagall','picasso','rembrandt','kaws','leoneardtsuguharufoujita','yayoi-kusama','zhangdaqian']\n",
    "# creating a pdf file object\n",
    "for name in names:\n",
    "    open_name = './' + name + '.pdf'\n",
    "    pdfFileObj = open(open_name, 'rb')\n",
    "    # creating a pdf reader object\n",
    "    pdfReader = PyPDF2.PdfReader(pdfFileObj)\n",
    "    # printing number of pages in pdf file\n",
    "    num_pages = len(pdfReader.pages)\n",
    "    print(f\"Number of pages: {num_pages}\")\n",
    "    # loop through all pages and extract text\n",
    "    for page_num in range(num_pages):\n",
    "        pageObj = pdfReader.pages[page_num]\n",
    "        text = pageObj.extract_text()\n",
    "        bodies.append(text)\n",
    "        print(f\"Page {page_num+1}:\\n{name}\")\n",
    "        # validate the process body of text is correct format\n",
    "        if type(text) is str:\n",
    "            print('Successfully pulled text from page.\\n')\n",
    "        else:\n",
    "            print('Failed to pull text.')\n",
    "    # closing the pdf file object\n",
    "    pdfFileObj.close()\n",
    "    print(f'+++++++++++++++++++++\\nFinished text from {name} pdf\\n+++++++++++++++++++++\\n')\n"
   ]
  },
  {
   "cell_type": "code",
   "execution_count": null,
   "metadata": {},
   "outputs": [],
   "source": [
    "# using as a whole pdf because it removes the line breaks \\n\n",
    "\n",
    "# importing required modules\n",
    "bodies = []\n",
    "\n",
    "# creating a pdf file object\n",
    "pdfFileObj = open('./data.pdf', 'rb')\n",
    "\n",
    "# creating a pdf reader object\n",
    "pdfReader = PyPDF2.PdfReader(pdfFileObj)\n",
    "\n",
    "# printing number of pages in pdf file\n",
    "num_pages = len(pdfReader.pages)\n",
    "print(f\"Number of pages: {num_pages}\")\n",
    "\n",
    "    # loop through all pages and extract text\n",
    "for page_num in range(num_pages):\n",
    "    pageObj = pdfReader.pages[page_num]\n",
    "    text = pageObj.extract_text()\n",
    "    bodies.append(text)\n",
    "    print(f\"Page {page_num+1}:\\ndata.pdf\")\n",
    "    # validate the process body of text is correct format\n",
    "    if type(text) is str:\n",
    "        print('Successfully pulled text from page.\\n')\n",
    "    else:\n",
    "        print('Failed to pull text.')\n",
    "# closing the pdf file object\n",
    "pdfFileObj.close()\n"
   ]
  },
  {
   "cell_type": "code",
   "execution_count": null,
   "metadata": {},
   "outputs": [],
   "source": [
    "# function for isolating and pulling jp & ch characters\n",
    "def remove_ch_jp_characters(text):\n",
    "  \"\"\"\n",
    "  Removes all chinese characters from a string\n",
    "  \"\"\"\n",
    "  pattern = re.compile(r'[\\u3040-\\u30ff\\u3400-\\u4dbf\\u4e00-\\u9fff\\uf900-\\ufaff\\uff66-\\uff9f]')\n",
    "  return pattern.sub('', text)"
   ]
  },
  {
   "cell_type": "code",
   "execution_count": null,
   "metadata": {},
   "outputs": [],
   "source": [
    "# decoding letters with accents into regular letters & removing character symbols\n",
    "body_clean = []\n",
    "for body in bodies:\n",
    "    body = unidecode.unidecode(body)\n",
    "    # removing the title of pdf from the body of text\n",
    "    body = body.replace('Price Database31 October 2023','')\n",
    "    body_clean.append(body)"
   ]
  },
  {
   "cell_type": "code",
   "execution_count": null,
   "metadata": {},
   "outputs": [],
   "source": [
    "# separating each entry by artist name\n",
    "names = ['Zhang Daqian', 'Andy Warhol', 'Banksy', 'Salvador Dali','Marc Chagell','Pablo Picasso',\n",
    "         'Rembrandt van Rijn','KAWS','Leonard Tsuguharu Foujita','Yayoi Kusama']\n",
    "# container for all entries\n",
    "new_body = []\n",
    "# container for each artist that has multiple names in the entry\n",
    "banksy_clean = []\n",
    "marc_clean = []\n",
    "pablo_clean = []\n",
    "rembrandt_clean = []\n",
    "dali_clean = []\n",
    "for body in body_clean:\n",
    "    for name in names:\n",
    "\n",
    "        # isolating the entries that contain multiple counts of name in entry\n",
    "            # the text in the if statement is the combined text where the name is repeated\n",
    "            # these varie between title of piece or within the lot description\n",
    "\n",
    "        # Banksy / KAWS\n",
    "        if name == 'Banksy' or 'KAWS':\n",
    "            if 'Only Banksy' in body:\n",
    "                banksy_clean.append(body)\n",
    "            elif 'Banksy and 21st Century Editions' in body:\n",
    "                banksy_clean.append(body)\n",
    "\n",
    "        # Marc Chagell\n",
    "        if name == 'Marc Chagell':\n",
    "            if 'Marc Chagall, Colour of Life' in body:\n",
    "                marc_clean.append(body)\n",
    "        # Dali\n",
    "        if name == 'Salvador Dali':\n",
    "            if 'After Salvador Dali' in body:\n",
    "                dali_clean.append(body)\n",
    "            elif 'SALVADOR DALI\\' \"Genesis\"' in body:\n",
    "                dali_clean.append(body)\n",
    "            elif 'Currier & Ives as Interpreted by Salvador Dali' in body:\n",
    "                dali_clean.append(body)\n",
    "        # Picasso\n",
    "        if name == 'Pablo Picasso':\n",
    "            if 'After Pablo Picasso' in body:\n",
    "                pablo_clean.append(body)\n",
    "        # Rembrandt\n",
    "        if name == 'Rembrandt van Rijn':\n",
    "            if 'School of Rembrandt van Rijn' in body:\n",
    "                rembrandt_clean.append(body)\n",
    "            elif 'Circle of Rembrandt van Rijn' in body:\n",
    "                rembrandt_clean.append(body)\n",
    "            elif 'Studio of Rembrandt van Rijn' in body:\n",
    "                rembrandt_clean.append(body)\n",
    "            elif 'Follower of Rembrandt van Rijn' in body:\n",
    "                rembrandt_clean.append(body)\n",
    "\n",
    "        # All other values that do not have repeated names\n",
    "        else:\n",
    "            entries = body.split(f\"{name}\")[1:]\n",
    "        for entry in entries:\n",
    "            entry = entry.strip()\n",
    "            # adding an additional space back in between the name and piece_name\n",
    "            a = ''.join([name+' ',entry])\n",
    "            a = a.replace('\\x00','-')\n",
    "            new_body.append(a)\n",
    "            print(f\"{name}\")\n",
    "            print(a)\n",
    "            print(\"=\"*30)\n"
   ]
  },
  {
   "cell_type": "code",
   "execution_count": null,
   "metadata": {},
   "outputs": [],
   "source": [
    "# Removing entries from new_body that do not have complete data\n",
    "new_body = [body for body in new_body if len(body) >= 130]"
   ]
  },
  {
   "cell_type": "code",
   "execution_count": null,
   "metadata": {},
   "outputs": [],
   "source": [
    "# cleaning duplicates within new_body\n",
    "print(len(new_body))\n",
    "new_body = list(set(new_body))\n",
    "print(len(new_body))"
   ]
  },
  {
   "cell_type": "markdown",
   "metadata": {},
   "source": [
    "## Isolated Lists of Entries that have the name of artist within the data."
   ]
  },
  {
   "cell_type": "markdown",
   "metadata": {},
   "source": [
    "### Banksy"
   ]
  },
  {
   "cell_type": "code",
   "execution_count": null,
   "metadata": {},
   "outputs": [],
   "source": [
    "# removing duplicates\n",
    "banksy_clean = list(set(banksy_clean))"
   ]
  },
  {
   "cell_type": "code",
   "execution_count": null,
   "metadata": {},
   "outputs": [],
   "source": [
    "banksy_ = []\n",
    "for i in banksy_clean:\n",
    "    # splitting by new line\n",
    "    i.split('\\n')\n",
    "    # adding space after artist name for ease of regex\n",
    "    i = i.replace('Banksy','Banksy ')\n",
    "    # removing double spaces\n",
    "    i = i.replace('  ', ' ')\n",
    "    banksy_.append(i)"
   ]
  },
  {
   "cell_type": "code",
   "execution_count": null,
   "metadata": {},
   "outputs": [],
   "source": [
    "# cleaned banksy entries with multiple appearances of names\n",
    "banksy_"
   ]
  },
  {
   "cell_type": "markdown",
   "metadata": {},
   "source": [
    "### Rembrandt"
   ]
  },
  {
   "cell_type": "code",
   "execution_count": null,
   "metadata": {},
   "outputs": [],
   "source": [
    "# removing duplicates\n",
    "rembrandt_clean = list(set(rembrandt_clean))"
   ]
  },
  {
   "cell_type": "code",
   "execution_count": null,
   "metadata": {},
   "outputs": [],
   "source": [
    "rembrandt_ = []\n",
    "for i in rembrandt_clean:\n",
    "    # splitting by new line\n",
    "    i.split('\\n')\n",
    "    # adding space after artist name for ease of regex\n",
    "    i = i.replace('Rembrandt','Rembrandt ')\n",
    "    # removing double spaces\n",
    "    i = i.replace('  ', ' ')\n",
    "    rembrandt_.append(i)"
   ]
  },
  {
   "cell_type": "code",
   "execution_count": null,
   "metadata": {},
   "outputs": [],
   "source": [
    "# cleaned rembrandt entries with multiple appearances of names\n",
    "rembrandt_"
   ]
  },
  {
   "cell_type": "markdown",
   "metadata": {},
   "source": [
    "### Marc Chagall"
   ]
  },
  {
   "cell_type": "code",
   "execution_count": null,
   "metadata": {},
   "outputs": [],
   "source": [
    "marc_ = []\n",
    "for i in marc_clean:\n",
    "    # splitting by new line\n",
    "    i.split('\\n')\n",
    "    # adding space after artist name for ease of regex\n",
    "    i = i.replace('Marc Chagall','Marc Chagall ')\n",
    "    # removing double spaces\n",
    "    i = i.replace('  ', ' ')\n",
    "    marc_.append(i)"
   ]
  },
  {
   "cell_type": "code",
   "execution_count": null,
   "metadata": {},
   "outputs": [],
   "source": [
    "# cleaned marc chagall entries with multiple appearances of names\n",
    "marc_"
   ]
  },
  {
   "cell_type": "markdown",
   "metadata": {},
   "source": [
    "### Pablo Picasso"
   ]
  },
  {
   "cell_type": "code",
   "execution_count": null,
   "metadata": {},
   "outputs": [],
   "source": [
    "pablo_ = []\n",
    "for i in pablo_clean:\n",
    "    # splitting by new line\n",
    "    i.split('\\n')\n",
    "    # adding space after artist name for ease of regex\n",
    "    i = i.replace('Pablo Picasso','Pablo Picasso ')\n",
    "    # removing double spaces\n",
    "    i = i.replace('  ', ' ')\n",
    "    pablo_.append(i)"
   ]
  },
  {
   "cell_type": "code",
   "execution_count": null,
   "metadata": {},
   "outputs": [],
   "source": [
    "# cleaned pablo picasso entries with multiple appearances of names\n",
    "pablo_"
   ]
  },
  {
   "cell_type": "markdown",
   "metadata": {},
   "source": [
    "### Salvador Dali"
   ]
  },
  {
   "cell_type": "code",
   "execution_count": null,
   "metadata": {},
   "outputs": [],
   "source": [
    "dali_ = []\n",
    "for i in dali_clean:\n",
    "    # splitting by new line\n",
    "    i.split('\\n')\n",
    "    # adding space after artist name for ease of regex\n",
    "    i = i.replace('Salvador Dali','Salvador Dali ')\n",
    "    # removing double spaces\n",
    "    i = i.replace('  ', ' ')\n",
    "    dali_.append(i)"
   ]
  },
  {
   "cell_type": "code",
   "execution_count": null,
   "metadata": {},
   "outputs": [],
   "source": [
    "dali_"
   ]
  },
  {
   "cell_type": "code",
   "execution_count": null,
   "metadata": {},
   "outputs": [],
   "source": [
    "len(new_body)"
   ]
  },
  {
   "cell_type": "code",
   "execution_count": null,
   "metadata": {},
   "outputs": [],
   "source": [
    "add_ins = dali_ + rembrandt_ + marc_ + pablo_ + banksy_"
   ]
  },
  {
   "cell_type": "markdown",
   "metadata": {},
   "source": [
    "## Connecting multiple name counts with the rest of values that did not need extra cleaning"
   ]
  },
  {
   "cell_type": "code",
   "execution_count": null,
   "metadata": {},
   "outputs": [],
   "source": [
    "new_body.extend(add_ins)"
   ]
  },
  {
   "cell_type": "code",
   "execution_count": null,
   "metadata": {},
   "outputs": [],
   "source": [
    "len(new_body)"
   ]
  },
  {
   "cell_type": "code",
   "execution_count": null,
   "metadata": {},
   "outputs": [],
   "source": [
    "new_body[-10]"
   ]
  },
  {
   "cell_type": "markdown",
   "metadata": {},
   "source": [
    "### Some manual fixes for pieces that include "
   ]
  },
  {
   "cell_type": "code",
   "execution_count": null,
   "metadata": {},
   "outputs": [],
   "source": [
    "# pre regex\n",
    "# 1. if name count < 1, drop value\n",
    "# regex\n",
    "# 2. Make depth optional\n",
    "# 3. make foreign currency (estimate & hammer price) optional\n",
    "# 4.\n"
   ]
  },
  {
   "cell_type": "code",
   "execution_count": null,
   "metadata": {},
   "outputs": [],
   "source": [
    "# seperating by IF has foreign currency\n",
    "foreign_currency = ['HKD','EUR','NZD','AUD','GBP','KRW','CNY','JPY','CHF','SGD','CAD','TWD','INR','THB','RUB','SEK','DKK','NOK',\n",
    "                    'PLN','ZAR','MXN','BRL','TRY','AED','SAR','QAR','KWD','OMR','BHD','JOD','ILS','EGP','IDR','MYR','PHP','CZK',\n",
    "                    'HUF','CLP','ARS','COP','PEN']\n",
    "# seperating by IF has depth\n",
    "# Depth as a keyword"
   ]
  }
 ],
 "metadata": {
  "kernelspec": {
   "display_name": "codeup",
   "language": "python",
   "name": "python3"
  },
  "language_info": {
   "codemirror_mode": {
    "name": "ipython",
    "version": 3
   },
   "file_extension": ".py",
   "mimetype": "text/x-python",
   "name": "python",
   "nbconvert_exporter": "python",
   "pygments_lexer": "ipython3",
   "version": "3.11.4"
  }
 },
 "nbformat": 4,
 "nbformat_minor": 2
}
